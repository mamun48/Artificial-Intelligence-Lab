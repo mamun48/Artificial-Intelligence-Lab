{
 "cells": [
  {
   "cell_type": "markdown",
   "metadata": {},
   "source": [
    "### Importing the Libraries"
   ]
  },
  {
   "cell_type": "code",
   "execution_count": 1,
   "metadata": {},
   "outputs": [
    {
     "name": "stdout",
     "output_type": "stream",
     "text": [
      "WARNING:tensorflow:From C:\\Users\\AHNAF SHAHREAR\\AppData\\Local\\Packages\\PythonSoftwareFoundation.Python.3.9_qbz5n2kfra8p0\\LocalCache\\local-packages\\Python39\\site-packages\\keras\\src\\losses.py:2976: The name tf.losses.sparse_softmax_cross_entropy is deprecated. Please use tf.compat.v1.losses.sparse_softmax_cross_entropy instead.\n",
      "\n"
     ]
    }
   ],
   "source": [
    "from tensorflow.keras.models import Model\n",
    "from tensorflow.keras.layers import Input, Conv2D, MaxPooling2D, Flatten, Dense"
   ]
  },
  {
   "cell_type": "markdown",
   "metadata": {},
   "source": [
    "### Building a Model like The VGG16"
   ]
  },
  {
   "cell_type": "code",
   "execution_count": 2,
   "metadata": {},
   "outputs": [
    {
     "name": "stdout",
     "output_type": "stream",
     "text": [
      "WARNING:tensorflow:From C:\\Users\\AHNAF SHAHREAR\\AppData\\Local\\Packages\\PythonSoftwareFoundation.Python.3.9_qbz5n2kfra8p0\\LocalCache\\local-packages\\Python39\\site-packages\\keras\\src\\backend.py:1398: The name tf.executing_eagerly_outside_functions is deprecated. Please use tf.compat.v1.executing_eagerly_outside_functions instead.\n",
      "\n",
      "WARNING:tensorflow:From C:\\Users\\AHNAF SHAHREAR\\AppData\\Local\\Packages\\PythonSoftwareFoundation.Python.3.9_qbz5n2kfra8p0\\LocalCache\\local-packages\\Python39\\site-packages\\keras\\src\\layers\\pooling\\max_pooling2d.py:161: The name tf.nn.max_pool is deprecated. Please use tf.nn.max_pool2d instead.\n",
      "\n",
      "Model: \"Custom_vgg16\"\n",
      "_________________________________________________________________\n",
      " Layer (type)                Output Shape              Param #   \n",
      "=================================================================\n",
      " input_1 (InputLayer)        [(None, 101, 101, 2)]     0         \n",
      "                                                                 \n",
      " conv2d (Conv2D)             (None, 101, 101, 64)      1216      \n",
      "                                                                 \n",
      " conv2d_1 (Conv2D)           (None, 101, 101, 64)      102464    \n",
      "                                                                 \n",
      " conv2d_2 (Conv2D)           (None, 101, 101, 64)      200768    \n",
      "                                                                 \n",
      " conv2d_3 (Conv2D)           (None, 101, 101, 64)      331840    \n",
      "                                                                 \n",
      " max_pooling2d (MaxPooling2  (None, 50, 50, 64)        0         \n",
      " D)                                                              \n",
      "                                                                 \n",
      " conv2d_4 (Conv2D)           (None, 50, 50, 128)       73856     \n",
      "                                                                 \n",
      " conv2d_5 (Conv2D)           (None, 50, 50, 128)       409728    \n",
      "                                                                 \n",
      " conv2d_6 (Conv2D)           (None, 50, 50, 128)       802944    \n",
      "                                                                 \n",
      " conv2d_7 (Conv2D)           (None, 50, 50, 128)       1327232   \n",
      "                                                                 \n",
      " max_pooling2d_1 (MaxPoolin  (None, 25, 25, 128)       0         \n",
      " g2D)                                                            \n",
      "                                                                 \n",
      " conv2d_8 (Conv2D)           (None, 25, 25, 256)       295168    \n",
      "                                                                 \n",
      " conv2d_9 (Conv2D)           (None, 25, 25, 256)       1638656   \n",
      "                                                                 \n",
      " conv2d_10 (Conv2D)          (None, 25, 25, 256)       3211520   \n",
      "                                                                 \n",
      " conv2d_11 (Conv2D)          (None, 25, 25, 256)       5308672   \n",
      "                                                                 \n",
      " max_pooling2d_2 (MaxPoolin  (None, 12, 12, 256)       0         \n",
      " g2D)                                                            \n",
      "                                                                 \n",
      " conv2d_12 (Conv2D)          (None, 12, 12, 512)       1180160   \n",
      "                                                                 \n",
      " conv2d_13 (Conv2D)          (None, 12, 12, 512)       6554112   \n",
      "                                                                 \n",
      " conv2d_14 (Conv2D)          (None, 12, 12, 512)       12845568  \n",
      "                                                                 \n",
      " conv2d_15 (Conv2D)          (None, 12, 12, 512)       21234176  \n",
      "                                                                 \n",
      " max_pooling2d_3 (MaxPoolin  (None, 6, 6, 512)         0         \n",
      " g2D)                                                            \n",
      "                                                                 \n",
      " conv2d_16 (Conv2D)          (None, 6, 6, 512)         2359808   \n",
      "                                                                 \n",
      " conv2d_17 (Conv2D)          (None, 6, 6, 512)         6554112   \n",
      "                                                                 \n",
      " conv2d_18 (Conv2D)          (None, 6, 6, 512)         12845568  \n",
      "                                                                 \n",
      " conv2d_19 (Conv2D)          (None, 6, 6, 512)         21234176  \n",
      "                                                                 \n",
      " max_pooling2d_4 (MaxPoolin  (None, 3, 3, 512)         0         \n",
      " g2D)                                                            \n",
      "                                                                 \n",
      " flatten (Flatten)           (None, 4608)              0         \n",
      "                                                                 \n",
      " dense (Dense)               (None, 8192)              37756928  \n",
      "                                                                 \n",
      " dense_1 (Dense)             (None, 4096)              33558528  \n",
      "                                                                 \n",
      " dense_2 (Dense)             (None, 2048)              8390656   \n",
      "                                                                 \n",
      " dense_3 (Dense)             (None, 1024)              2098176   \n",
      "                                                                 \n",
      " dense_4 (Dense)             (None, 101)               103525    \n",
      "                                                                 \n",
      "=================================================================\n",
      "Total params: 180419557 (688.25 MB)\n",
      "Trainable params: 180419557 (688.25 MB)\n",
      "Non-trainable params: 0 (0.00 Byte)\n",
      "_________________________________________________________________\n"
     ]
    }
   ],
   "source": [
    "inputs = Input(shape = (101, 101, 4))\n",
    "x = Conv2D(filters = 64, kernel_size = (3, 3), activation = \"relu\", padding = \"same\")(inputs)\n",
    "x = Conv2D(filters = 64, kernel_size = (5, 5), activation = \"relu\", padding = \"same\")(x)\n",
    "x = Conv2D(filters = 64, kernel_size = (7, 7), activation = \"relu\", padding = \"same\")(x)\n",
    "x = Conv2D(filters = 64, kernel_size = (9, 9), activation = \"relu\", padding = \"same\")(x)\n",
    "x = MaxPooling2D()(x)\n",
    "x = Conv2D(filters = 128, kernel_size = (3, 3), activation = \"relu\", padding = \"same\")(x)\n",
    "x = Conv2D(filters = 128, kernel_size = (5, 5), activation = \"relu\", padding = \"same\")(x)\n",
    "x = Conv2D(filters = 128, kernel_size = (7, 7), activation = \"relu\", padding = \"same\")(x)\n",
    "x = Conv2D(filters = 128, kernel_size = (9, 9), activation = \"relu\", padding = \"same\")(x)\n",
    "x = MaxPooling2D()(x)\n",
    "x = Conv2D(filters = 256, kernel_size = (3, 3), activation = \"relu\", padding = \"same\")(x)\n",
    "x = Conv2D(filters = 256, kernel_size = (5, 5), activation = \"relu\", padding = \"same\")(x)\n",
    "x = Conv2D(filters = 256, kernel_size = (7, 7), activation = \"relu\", padding = \"same\")(x)\n",
    "x = Conv2D(filters = 256, kernel_size = (9, 9), activation = \"relu\", padding = \"same\")(x)\n",
    "x = MaxPooling2D()(x)\n",
    "x = Conv2D(filters = 512, kernel_size = (3, 3), activation = \"relu\", padding = \"same\")(x)\n",
    "x = Conv2D(filters = 512, kernel_size = (5, 5), activation = \"relu\", padding = \"same\")(x)\n",
    "x = Conv2D(filters = 512, kernel_size = (7, 7), activation = \"relu\", padding = \"same\")(x)\n",
    "x = Conv2D(filters = 512, kernel_size = (9, 9), activation = \"relu\", padding = \"same\")(x)\n",
    "x = MaxPooling2D()(x)\n",
    "x = Conv2D(filters = 512, kernel_size = (3, 3), activation = \"relu\", padding = \"same\")(x)\n",
    "x = Conv2D(filters = 512, kernel_size = (5, 5), activation = \"relu\", padding = \"same\")(x)\n",
    "x = Conv2D(filters = 512, kernel_size = (7, 7), activation = \"relu\", padding = \"same\")(x)\n",
    "x = Conv2D(filters = 512, kernel_size = (9, 9), activation = \"relu\", padding = \"same\")(x)\n",
    "x = MaxPooling2D()(x)\n",
    "x = Flatten()(x)\n",
    "x = Dense(units = 8192, activation = \"relu\")(x)\n",
    "x = Dense(units = 4096, activation = \"relu\")(x)\n",
    "x = Dense(units = 2048, activation = \"relu\")(x)\n",
    "x = Dense(units = 1024, activation = \"relu\")(x)\n",
    "outputs = Dense(units = 101, activation = \"relu\")(x)\n",
    "\n",
    "custom_vgg16 = Model(inputs, outputs, name = \"Custom_vgg16\")\n",
    "custom_vgg16.summary()"
   ]
  }
 ],
 "metadata": {
  "kernelspec": {
   "display_name": "Python 3",
   "language": "python",
   "name": "python3"
  },
  "language_info": {
   "codemirror_mode": {
    "name": "ipython",
    "version": 3
   },
   "file_extension": ".py",
   "mimetype": "text/x-python",
   "name": "python",
   "nbconvert_exporter": "python",
   "pygments_lexer": "ipython3",
   "version": "3.9.13"
  }
 },
 "nbformat": 4,
 "nbformat_minor": 2
}
